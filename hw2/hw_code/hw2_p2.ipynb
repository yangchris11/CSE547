{
  "nbformat": 4,
  "nbformat_minor": 0,
  "metadata": {
    "colab": {
      "name": "hw2_p2.ipynb",
      "provenance": [],
      "collapsed_sections": [],
      "toc_visible": true
    },
    "kernelspec": {
      "name": "python3",
      "display_name": "Python 3"
    }
  },
  "cells": [
    {
      "cell_type": "code",
      "metadata": {
        "id": "zUEIIKjdaa20",
        "colab_type": "code",
        "outputId": "cae0774d-8208-4efb-9e13-7c85ad6b4034",
        "colab": {
          "base_uri": "https://localhost:8080/",
          "height": 272
        }
      },
      "source": [
        "!pip install pyspark\n",
        "!pip install -U -q PyDrive\n",
        "!apt install openjdk-8-jdk-headless -qq\n",
        "import os\n",
        "os.environ[\"JAVA_HOME\"] = \"/usr/lib/jvm/java-8-openjdk-amd64\"\n",
        "\n",
        "from pydrive.auth import GoogleAuth\n",
        "from pydrive.drive import GoogleDrive\n",
        "from google.colab import auth\n",
        "from oauth2client.client import GoogleCredentials\n",
        "\n",
        "# Authenticate and create the PyDrive client\n",
        "auth.authenticate_user()\n",
        "gauth = GoogleAuth()\n",
        "gauth.credentials = GoogleCredentials.get_application_default()\n",
        "drive = GoogleDrive(gauth)"
      ],
      "execution_count": 1,
      "outputs": [
        {
          "output_type": "stream",
          "text": [
            "Collecting pyspark\n",
            "\u001b[?25l  Downloading https://files.pythonhosted.org/packages/9a/5a/271c416c1c2185b6cb0151b29a91fff6fcaed80173c8584ff6d20e46b465/pyspark-2.4.5.tar.gz (217.8MB)\n",
            "\u001b[K     |████████████████████████████████| 217.8MB 63kB/s \n",
            "\u001b[?25hCollecting py4j==0.10.7\n",
            "\u001b[?25l  Downloading https://files.pythonhosted.org/packages/e3/53/c737818eb9a7dc32a7cd4f1396e787bd94200c3997c72c1dbe028587bd76/py4j-0.10.7-py2.py3-none-any.whl (197kB)\n",
            "\u001b[K     |████████████████████████████████| 204kB 54.3MB/s \n",
            "\u001b[?25hBuilding wheels for collected packages: pyspark\n",
            "  Building wheel for pyspark (setup.py) ... \u001b[?25l\u001b[?25hdone\n",
            "  Created wheel for pyspark: filename=pyspark-2.4.5-py2.py3-none-any.whl size=218257927 sha256=a590e189dbe33a08972172c5b8739125c4ada38bebc35689909b2d4a3cd98da5\n",
            "  Stored in directory: /root/.cache/pip/wheels/bf/db/04/61d66a5939364e756eb1c1be4ec5bdce6e04047fc7929a3c3c\n",
            "Successfully built pyspark\n",
            "Installing collected packages: py4j, pyspark\n",
            "Successfully installed py4j-0.10.7 pyspark-2.4.5\n",
            "openjdk-8-jdk-headless is already the newest version (8u242-b08-0ubuntu3~18.04).\n",
            "0 upgraded, 0 newly installed, 0 to remove and 25 not upgraded.\n"
          ],
          "name": "stdout"
        }
      ]
    },
    {
      "cell_type": "code",
      "metadata": {
        "id": "H_L0JVckapmx",
        "colab_type": "code",
        "colab": {}
      },
      "source": [
        "import pyspark\n",
        "from pyspark.sql import *\n",
        "from pyspark.sql.functions import *\n",
        "from pyspark import SparkContext, SparkConf\n",
        "from pyspark.sql import functions as F\n",
        "\n",
        "import numpy as np\n",
        "import pandas as pd\n",
        "\n",
        "import matplotlib.pyplot as plt\n"
      ],
      "execution_count": 0,
      "outputs": []
    },
    {
      "cell_type": "code",
      "metadata": {
        "id": "TwZ4pmzBbwAa",
        "colab_type": "code",
        "colab": {}
      },
      "source": [
        "# create the context\n",
        "conf = SparkConf().setAppName(\"App\")\n",
        "conf = (conf.setMaster('local[*]')\n",
        "        .set('spark.executor.memory', '6G')\n",
        "        .set('spark.driver.memory', '45G')\n",
        "        .set('spark.driver.maxResultSize', '10G'))\n",
        "sc = pyspark.SparkContext(conf=conf)\n",
        "spark = SparkSession.builder.getOrCreate()"
      ],
      "execution_count": 0,
      "outputs": []
    },
    {
      "cell_type": "markdown",
      "metadata": {
        "id": "wfDo6SV4b5h2",
        "colab_type": "text"
      },
      "source": [
        "# Parse Data\n",
        "\n",
        "1. `data.txt` contains the dataset which has 4601 rows and 58 columns. Each row is a document represented as a 58 dimensional vector of features. Each component in the vector represents the importance of a word in the document. \n",
        "\n",
        "2. `c1.txt` contains k initial cluster centroids. These centroids were chosen by selecting k = 10 random points from the input data. \n",
        "\n",
        "3. `c2.txt` contains initial cluster centroids which are as far apart as possible, using Eu- clidean distance as the distance metric."
      ]
    },
    {
      "cell_type": "code",
      "metadata": {
        "id": "yTsxvHETb1Cn",
        "colab_type": "code",
        "colab": {}
      },
      "source": [
        "def read_data(line):\n",
        "    splitted_line = line[0].split(' ')\n",
        "    return np.array([float(x) for x in splitted_line])\n",
        "\n",
        "data = spark.read.text('data.txt').rdd.map(lambda line: read_data(line))\n",
        "c1 = np.loadtxt('c1.txt', delimiter = ' ')\n",
        "c2 = np.loadtxt('c2.txt', delimiter = ' ')"
      ],
      "execution_count": 0,
      "outputs": []
    },
    {
      "cell_type": "markdown",
      "metadata": {
        "id": "opXNFZB7iRts",
        "colab_type": "text"
      },
      "source": [
        "## (a) Exploring initialization strategies with Euclidean distance [10 pts]"
      ]
    },
    {
      "cell_type": "code",
      "metadata": {
        "id": "GCq0KtCtcnEf",
        "colab_type": "code",
        "colab": {}
      },
      "source": [
        "def closest_centroid(p, centroids): # Euclidean distance\n",
        "    dis = []\n",
        "    for centroid in centroids:\n",
        "        dis.append(np.sum((p-centroid)**2))\n",
        "    return (np.argmin(dis), (1, np.amin(dis), p)) # return (min_idx, (ct=1, min_err, coordinates)\n",
        "\n",
        "def get_new_centroid(c):\n",
        "    idx =  c[0]\n",
        "    count, error_sum, coordinate_sum = c[1]\n",
        "    return (idx, error_sum, coordinate_sum/count)"
      ],
      "execution_count": 0,
      "outputs": []
    },
    {
      "cell_type": "code",
      "metadata": {
        "id": "VbVb818eb_zU",
        "colab_type": "code",
        "colab": {}
      },
      "source": [
        "iters = 20\n",
        "\n",
        "centroids = c1.copy()\n",
        "error_history_c1 = []\n",
        "\n",
        "for iter in range(iters):\n",
        "    closest_centroids = data.map(lambda p: closest_centroid(p, centroids))\n",
        "    clusters = closest_centroids.reduceByKey(lambda p1, p2: (p1[0]+p2[0], p1[1]+p2[1], p1[2]+p2[2]))\n",
        "    new_centroids = clusters.map(lambda c: get_new_centroid(c)).collect()\n",
        "\n",
        "    total_error = 0\n",
        "    for idx, error, new_centroid in new_centroids:\n",
        "        total_error += error\n",
        "        centroids[idx] = new_centroid\n",
        "\n",
        "    error_history_c1.append(total_error)\n",
        "\n",
        "centroids = c2.copy()\n",
        "error_history_c2 = []\n",
        "\n",
        "for iter in range(iters):\n",
        "    closest_centroids = data.map(lambda p: closest_centroid(p, centroids))\n",
        "    clusters = closest_centroids.reduceByKey(lambda p1, p2: (p1[0]+p2[0], p1[1]+p2[1], p1[2]+p2[2]))\n",
        "    new_centroids = clusters.map(lambda c: get_new_centroid(c)).collect()\n",
        "\n",
        "    total_error = 0\n",
        "    for idx, error, new_centroid in new_centroids:\n",
        "        total_error += error\n",
        "        centroids[idx] = new_centroid\n",
        "\n",
        "    error_history_c2.append(total_error)"
      ],
      "execution_count": 0,
      "outputs": []
    },
    {
      "cell_type": "markdown",
      "metadata": {
        "id": "SQsgCG0d2o4q",
        "colab_type": "text"
      },
      "source": [
        "1. Using the Euclidean distance (refer to Equation 1) as the distance measure, compute the cost function $\\phi(i)$ (refer to Equation 2) for every iteration i. This means that, for your first iteration, you’ll be computing the cost function using the initial centroids located in one of the two text files. Run the k-means on data.txt using `c1.txt` and `c2.txt`. Generate a graph where you plot the cost function $\\phi(i)$ as a function of the number of iterations $i=1\\cdots20$ for `c1.txt` and also for `c2.txt`. You may use a single plot or two different plots, whichever you think best answers the theoretical questions we’re asking you about."
      ]
    },
    {
      "cell_type": "code",
      "metadata": {
        "id": "gFWGTMgMvJ-K",
        "colab_type": "code",
        "outputId": "a1648d05-eef1-4b0d-ac5a-e73ab08cf537",
        "colab": {
          "base_uri": "https://localhost:8080/",
          "height": 312
        }
      },
      "source": [
        "%matplotlib inline\n",
        "\n",
        "plt.figure()\n",
        "plt.plot(list(range(1,21)), np.array(error_history_c1), label ='c1', c='red')\n",
        "plt.plot(list(range(1,21)), np.array(error_history_c2), label ='c2', c='blue')\n",
        "plt.xticks(list(range(1, 21, 1)))\n",
        "plt.xlabel('Iterations')\n",
        "plt.ylabel('Cost Function ' + r'$\\phi$ ' + r'($\\times 10^8$)')\n",
        "plt.title('K-means w/ Euclidean distance')\n",
        "plt.legend(['c1 (random init)', 'c2 (rule-based init)'])"
      ],
      "execution_count": 13,
      "outputs": [
        {
          "output_type": "execute_result",
          "data": {
            "text/plain": [
              "<matplotlib.legend.Legend at 0x7f57912c3828>"
            ]
          },
          "metadata": {
            "tags": []
          },
          "execution_count": 13
        },
        {
          "output_type": "display_data",
          "data": {
            "image/png": "[encoded data removed]",
            "text/plain": [
              "<Figure size 432x288 with 1 Axes>"
            ]
          },
          "metadata": {
            "tags": [],
            "needs_background": "light"
          }
        }
      ]
    },
    {
      "cell_type": "markdown",
      "metadata": {
        "id": "Ztk5Jzer1iK-",
        "colab_type": "text"
      },
      "source": [
        "2. What is the percentage change in cost after 10 iterations of the K-Means algorithm when the cluster centroids are initialized using `c1.tx`t vs. `c2.txt` and the distance metric being used is Euclidean distance? Is random initialization of k-means using c1.txt better than initialization using `c2.txt` in terms of cost $\\phi(i)$? Explain your reasoning."
      ]
    },
    {
      "cell_type": "code",
      "metadata": {
        "id": "7MjIBzU0kyJP",
        "colab_type": "code",
        "outputId": "70096855-b76c-41ab-a45e-9bd41186a15a",
        "colab": {
          "base_uri": "https://localhost:8080/",
          "height": 51
        }
      },
      "source": [
        "c1_percentage_change = (error_history_c1[0]-error_history_c1[10])/error_history_c1[0]\n",
        "c2_percentage_change = (error_history_c2[0]-error_history_c2[10])/error_history_c2[0]\n",
        "\n",
        "print('Percentage change in cost after 10 iterations(c1.txt): {:.3f}'.format(c1_percentage_change))\n",
        "print('Percentage change in cost after 10 iterations(c2.txt): {:.3f}'.format(c2_percentage_change))"
      ],
      "execution_count": 14,
      "outputs": [
        {
          "output_type": "stream",
          "text": [
            "Percentage change in cost after 10 iterations(c1.txt): 0.265\n",
            "Percentage change in cost after 10 iterations(c2.txt): 0.767\n"
          ],
          "name": "stdout"
        }
      ]
    },
    {
      "cell_type": "markdown",
      "metadata": {
        "id": "9zTWs4Q605DX",
        "colab_type": "text"
      },
      "source": [
        "## (b) Exploring initialization strategies with Manhattan distance [10 pts]"
      ]
    },
    {
      "cell_type": "code",
      "metadata": {
        "id": "eCODtiTh2-Ct",
        "colab_type": "code",
        "colab": {}
      },
      "source": [
        "def closest_centroid(p, centroids): # Manhattan distance\n",
        "    dis = []\n",
        "    for centroid in centroids:\n",
        "        dis.append(np.sum(np.abs(p-centroid)))\n",
        "    return (np.argmin(dis), (1, np.amin(dis), p)) # return (min_idx, (ct=1, min_err, coordinates)\n",
        "\n",
        "def get_new_centroid(c):\n",
        "    idx =  c[0]\n",
        "    count, error_sum, flat_coordinate_list = c[1]\n",
        "    coordinate_list = np.reshape(flat_coordinate_list, (count,-1))\n",
        "    median = np.median(coordinate_list, axis=0)\n",
        "    return (idx, error_sum, median)"
      ],
      "execution_count": 0,
      "outputs": []
    },
    {
      "cell_type": "code",
      "metadata": {
        "id": "MU8uPZLb3KJE",
        "colab_type": "code",
        "colab": {}
      },
      "source": [
        "iters = 20\n",
        "\n",
        "centroids = c1.copy()\n",
        "error_history_c1 = []\n",
        "\n",
        "for iter in range(iters):\n",
        "    closest_centroids = data.map(lambda p: closest_centroid(p, centroids))\n",
        "    clusters = closest_centroids.reduceByKey(lambda p1, p2: (p1[0]+p2[0], p1[1]+p2[1], np.concatenate((p1[2], p2[2]), axis=None)))\n",
        "    new_centroids = clusters.map(lambda c: get_new_centroid(c)).collect()\n",
        "\n",
        "    total_error = 0\n",
        "    for idx, error, new_centroid in new_centroids:\n",
        "        total_error += error\n",
        "        centroids[idx] = new_centroid\n",
        "\n",
        "    error_history_c1.append(total_error)\n",
        "\n",
        "centroids = c2.copy()\n",
        "error_history_c2 = []\n",
        "\n",
        "for iter in range(iters):\n",
        "    closest_centroids = data.map(lambda p: closest_centroid(p, centroids))\n",
        "    clusters = closest_centroids.reduceByKey(lambda p1, p2: (p1[0]+p2[0], p1[1]+p2[1], np.concatenate((p1[2], p2[2]), axis=None)))\n",
        "    new_centroids = clusters.map(lambda c: get_new_centroid(c)).collect()\n",
        "\n",
        "    total_error = 0\n",
        "    for idx, error, new_centroid in new_centroids:\n",
        "        total_error += error\n",
        "        centroids[idx] = new_centroid\n",
        "\n",
        "    error_history_c2.append(total_error)"
      ],
      "execution_count": 0,
      "outputs": []
    },
    {
      "cell_type": "code",
      "metadata": {
        "id": "FtGI02oz3NlK",
        "colab_type": "code",
        "outputId": "5b277338-369b-47c5-f1a8-8b3ba89a8d79",
        "colab": {
          "base_uri": "https://localhost:8080/",
          "height": 312
        }
      },
      "source": [
        "%matplotlib inline\n",
        "\n",
        "plt.figure()\n",
        "plt.plot(list(range(1,21)), np.array(error_history_c1), label ='c1', c='red')\n",
        "plt.plot(list(range(1,21)), np.array(error_history_c2), label ='c2', c='blue')\n",
        "plt.xticks(list(range(1, 21, 1)))\n",
        "plt.xlabel('Iterations')\n",
        "plt.ylabel('Cost Function ' + r'$\\phi$ ' + r'($\\times 10^6$)')\n",
        "plt.title('K-medians w/ Manhattan distance')\n",
        "plt.legend(['c1 (random init)', 'c2 (rule-based init)'])"
      ],
      "execution_count": 17,
      "outputs": [
        {
          "output_type": "execute_result",
          "data": {
            "text/plain": [
              "<matplotlib.legend.Legend at 0x7f5790d66ac8>"
            ]
          },
          "metadata": {
            "tags": []
          },
          "execution_count": 17
        },
        {
          "output_type": "display_data",
          "data": {
            "image/png": "[encoded data removed]",
            "text/plain": [
              "<Figure size 432x288 with 1 Axes>"
            ]
          },
          "metadata": {
            "tags": [],
            "needs_background": "light"
          }
        }
      ]
    },
    {
      "cell_type": "code",
      "metadata": {
        "id": "OCL_rJdk3T8y",
        "colab_type": "code",
        "outputId": "c428cc09-3924-46f9-851a-e872c4fb3500",
        "colab": {
          "base_uri": "https://localhost:8080/",
          "height": 51
        }
      },
      "source": [
        "c1_percentage_change = (error_history_c1[0]-error_history_c1[10])/error_history_c1[0]\n",
        "c2_percentage_change = (error_history_c2[0]-error_history_c2[10])/error_history_c2[0]\n",
        "\n",
        "print('Percentage change in cost after 10 iterations(c1.txt): {:.3f}'.format(c1_percentage_change))\n",
        "print('Percentage change in cost after 10 iterations(c2.txt): {:.3f}'.format(c2_percentage_change))"
      ],
      "execution_count": 18,
      "outputs": [
        {
          "output_type": "stream",
          "text": [
            "Percentage change in cost after 10 iterations(c1.txt): 0.260\n",
            "Percentage change in cost after 10 iterations(c2.txt): 0.621\n"
          ],
          "name": "stdout"
        }
      ]
    }
  ]
}