{
  "nbformat": 4,
  "nbformat_minor": 0,
  "metadata": {
    "colab": {
      "name": "hw1_p1-2.ipynb",
      "provenance": [],
      "collapsed_sections": []
    },
    "kernelspec": {
      "name": "python3",
      "display_name": "Python 3"
    }
  },
  "cells": [
    {
      "cell_type": "code",
      "metadata": {
        "id": "h73e2xA07bn1",
        "colab_type": "code",
        "outputId": "994b4d0f-65d1-42a2-85f6-0e0ee5a73b02",
        "colab": {
          "base_uri": "https://localhost:8080/",
          "height": 292
        }
      },
      "source": [
        "!pip install pyspark\n",
        "!pip install -U -q PyDrive\n",
        "!apt install openjdk-8-jdk-headless -qq\n",
        "import os\n",
        "os.environ[\"JAVA_HOME\"] = \"/usr/lib/jvm/java-8-openjdk-amd64\"\n",
        "\n",
        "from pydrive.auth import GoogleAuth\n",
        "from pydrive.drive import GoogleDrive\n",
        "from google.colab import auth\n",
        "from oauth2client.client import GoogleCredentials\n",
        "\n",
        "# Authenticate and create the PyDrive client\n",
        "auth.authenticate_user()\n",
        "gauth = GoogleAuth()\n",
        "gauth.credentials = GoogleCredentials.get_application_default()\n",
        "drive = GoogleDrive(gauth)"
      ],
      "execution_count": 1,
      "outputs": [
        {
          "output_type": "stream",
          "text": [
            "Collecting pyspark\n",
            "\u001b[?25l  Downloading https://files.pythonhosted.org/packages/9a/5a/271c416c1c2185b6cb0151b29a91fff6fcaed80173c8584ff6d20e46b465/pyspark-2.4.5.tar.gz (217.8MB)\n",
            "\u001b[K     |████████████████████████████████| 217.8MB 67kB/s \n",
            "\u001b[?25hCollecting py4j==0.10.7\n",
            "\u001b[?25l  Downloading https://files.pythonhosted.org/packages/e3/53/c737818eb9a7dc32a7cd4f1396e787bd94200c3997c72c1dbe028587bd76/py4j-0.10.7-py2.py3-none-any.whl (197kB)\n",
            "\u001b[K     |████████████████████████████████| 204kB 48.2MB/s \n",
            "\u001b[?25hBuilding wheels for collected packages: pyspark\n",
            "  Building wheel for pyspark (setup.py) ... \u001b[?25l\u001b[?25hdone\n",
            "  Created wheel for pyspark: filename=pyspark-2.4.5-py2.py3-none-any.whl size=218257927 sha256=1c228fb1bd0e1e5c243c4daa3cac12c34b4025085c5e03b9ded3ccc35125de58\n",
            "  Stored in directory: /root/.cache/pip/wheels/bf/db/04/61d66a5939364e756eb1c1be4ec5bdce6e04047fc7929a3c3c\n",
            "Successfully built pyspark\n",
            "Installing collected packages: py4j, pyspark\n",
            "Successfully installed py4j-0.10.7 pyspark-2.4.5\n",
            "openjdk-8-jdk-headless is already the newest version (8u242-b08-0ubuntu3~18.04).\n",
            "0 upgraded, 0 newly installed, 0 to remove and 25 not upgraded.\n"
          ],
          "name": "stdout"
        }
      ]
    },
    {
      "cell_type": "code",
      "metadata": {
        "id": "fOWZtBIB8J1O",
        "colab_type": "code",
        "outputId": "9fb44312-dc25-47e0-dcb5-fcebc8901dbe",
        "colab": {
          "base_uri": "https://localhost:8080/",
          "height": 122
        }
      },
      "source": [
        "from google.colab import drive\n",
        "drive.mount('/content/drive')"
      ],
      "execution_count": 2,
      "outputs": [
        {
          "output_type": "stream",
          "text": [
            "Go to this URL in a browser: https://accounts.google.com/o/oauth2/auth?client_id=947318989803-6bn6qk8qdgf4n4g3pfee6491hc0brc4i.apps.googleusercontent.com&redirect_uri=urn%3aietf%3awg%3aoauth%3a2.0%3aoob&response_type=code&scope=email%20https%3a%2f%2fwww.googleapis.com%2fauth%2fdocs.test%20https%3a%2f%2fwww.googleapis.com%2fauth%2fdrive%20https%3a%2f%2fwww.googleapis.com%2fauth%2fdrive.photos.readonly%20https%3a%2f%2fwww.googleapis.com%2fauth%2fpeopleapi.readonly\n",
            "\n",
            "Enter your authorization code:\n",
            "··········\n",
            "Mounted at /content/drive\n"
          ],
          "name": "stdout"
        }
      ]
    },
    {
      "cell_type": "code",
      "metadata": {
        "id": "BOUO6HFlydVB",
        "colab_type": "code",
        "colab": {}
      },
      "source": [
        "import pyspark\n",
        "from pyspark.sql import *\n",
        "from pyspark.sql.functions import *\n",
        "from pyspark import SparkContext, SparkConf\n",
        "from pyspark.sql import functions as F\n",
        "\n",
        "import numpy as np\n",
        "import pandas as pd"
      ],
      "execution_count": 0,
      "outputs": []
    },
    {
      "cell_type": "code",
      "metadata": {
        "id": "U04ZR7GlypJW",
        "colab_type": "code",
        "colab": {}
      },
      "source": [
        "# create the context\n",
        "conf = SparkConf().setAppName(\"App\")\n",
        "conf = (conf.setMaster('local[*]')\n",
        "        .set('spark.executor.memory', '6G')\n",
        "        .set('spark.driver.memory', '45G')\n",
        "        .set('spark.driver.maxResultSize', '10G'))\n",
        "sc = pyspark.SparkContext(conf=conf)\n",
        "spark = SparkSession.builder.getOrCreate()"
      ],
      "execution_count": 0,
      "outputs": []
    },
    {
      "cell_type": "code",
      "metadata": {
        "id": "qyqN04anzE0L",
        "colab_type": "code",
        "colab": {}
      },
      "source": [
        "# load the data\n",
        "data = sc.textFile('soc-LiveJournal1Adj.txt')"
      ],
      "execution_count": 0,
      "outputs": []
    },
    {
      "cell_type": "code",
      "metadata": {
        "id": "2YY_MJyiziXm",
        "colab_type": "code",
        "colab": {}
      },
      "source": [
        "def lambda_process_line(line):\n",
        "    user_id, friend_ids = line.split('\\t')\n",
        "    if friend_ids != '':\n",
        "        friend_ids_lst = friend_ids.split(',')\n",
        "    else:\n",
        "        friend_ids_lst = []\n",
        "    return (user_id, friend_ids_lst)\n",
        "\n",
        "def lambda_make_pairs(line):\n",
        "    user_id = line[0]\n",
        "    friend_ids = line[1]\n",
        "    pairs = []\n",
        "    # first-degree friendship:\n",
        "    for friend_id in friend_ids:\n",
        "        pair = (user_id, friend_id)\n",
        "        if user_id > friend_id:\n",
        "            pair = (friend_id, user_id)\n",
        "        pairs.append((pair, 0))\n",
        "    # second-degree friendship:\n",
        "    for i in range(len(friend_ids)-1):\n",
        "        for j in range(i+1, len(friend_ids)):\n",
        "            pair = (friend_ids[i], friend_ids[j])\n",
        "            if friend_ids[i] > friend_ids[j]:\n",
        "                pair = (friend_ids[j], friend_ids[i])\n",
        "            pairs.append((pair, 1))\n",
        "    return pairs"
      ],
      "execution_count": 0,
      "outputs": []
    },
    {
      "cell_type": "code",
      "metadata": {
        "id": "CECBgAsFzoMw",
        "colab_type": "code",
        "colab": {}
      },
      "source": [
        "# step 1\n",
        "processed_data = data.map(lambda line: lambda_process_line(line))\n",
        "all_friend_pairs = processed_data.flatMap(lambda line: lambda_make_pairs(line))"
      ],
      "execution_count": 0,
      "outputs": []
    },
    {
      "cell_type": "code",
      "metadata": {
        "id": "kHypPUrjJJRc",
        "colab_type": "code",
        "colab": {}
      },
      "source": [
        "# step 2\n",
        "mutual_friend_pairs = all_friend_pairs.groupByKey().filter(lambda pair: 0 not in pair[1]).flatMapValues(lambda x: x)"
      ],
      "execution_count": 0,
      "outputs": []
    },
    {
      "cell_type": "code",
      "metadata": {
        "id": "tcKA4PyxRmVR",
        "colab_type": "code",
        "colab": {}
      },
      "source": [
        "# step 3\n",
        "reduced_mutual_friend_pairs = mutual_friend_pairs.reduceByKey(lambda x, y: x+y)"
      ],
      "execution_count": 0,
      "outputs": []
    },
    {
      "cell_type": "code",
      "metadata": {
        "id": "lrwZg7TG0u04",
        "colab_type": "code",
        "colab": {}
      },
      "source": [
        "# step 4\n",
        "recommend_friend_pairs = reduced_mutual_friend_pairs.flatMap(lambda pair: [(pair[0][0], (pair[0][1], pair[1])), (pair[0][1], (pair[0][0], pair[1]))]).groupByKey().mapValues(list) "
      ],
      "execution_count": 0,
      "outputs": []
    },
    {
      "cell_type": "code",
      "metadata": {
        "id": "ALWnd26_krkO",
        "colab_type": "code",
        "colab": {}
      },
      "source": [
        "# step 5\n",
        "sorted_recommend_friend_pairs = recommend_friend_pairs.map(lambda user: (user[0], sorted(user[1], key = lambda x: (-x[1], int(x[0])))))"
      ],
      "execution_count": 0,
      "outputs": []
    },
    {
      "cell_type": "code",
      "metadata": {
        "colab_type": "code",
        "id": "xb5goh1Zhfl8",
        "colab": {}
      },
      "source": [
        "result = sorted_recommend_friend_pairs.collect()"
      ],
      "execution_count": 0,
      "outputs": []
    },
    {
      "cell_type": "code",
      "metadata": {
        "id": "reM86KmJQxkJ",
        "colab_type": "code",
        "outputId": "a5eac58f-fa87-4a7a-a993-0abc5700abd1",
        "colab": {
          "base_uri": "https://localhost:8080/",
          "height": 224
        }
      },
      "source": [
        "# problem 1.c\n",
        "\n",
        "user_ids = ['11', '924', '8941', '8942', '9019', '9020', '9021', '9022', '9990', '9992', '9993']\n",
        "\n",
        "for user_id in user_ids:\n",
        "    for line in result:\n",
        "        cur_id, recommendations = line\n",
        "        if cur_id == user_id:\n",
        "            recommendation_ids = []\n",
        "            for recommendation in recommendations:\n",
        "                recommendation_ids.append(recommendation[0])\n",
        "            print(user_id, recommendation_ids)"
      ],
      "execution_count": 17,
      "outputs": [
        {
          "output_type": "stream",
          "text": [
            "11 ['27552', '7785', '27573', '27574', '27589', '27590', '27600', '27617', '27620', '27667', '32072', '33192', '10', '12', '110', '638', '1797', '2141', '5784', '6893', '7717', '7849', '8773', '9154', '9998', '10253', '10782', '12666', '23586', '25186', '25195', '25205', '25256', '26976', '27555', '27564', '27570', '27583', '27587', '27588', '27626', '27638', '27655', '27661', '30214', '32128', '32233', '32505', '33017', '35451', '38737', '45018', '1', '2', '3', '4', '5', '6', '7', '8', '9', '13', '14', '15', '16', '17', '18', '19', '20', '21', '22', '23', '24', '25', '26', '27', '28', '29', '30', '31', '32', '33', '34', '35', '36', '37', '38', '39', '40', '41', '42', '43', '44', '45', '46', '47', '48', '49', '50', '51', '52', '53', '54', '55', '56', '57', '58', '59', '60', '61', '62', '63', '64', '65', '66', '67', '68', '69', '70', '71', '72', '73', '74', '75', '76', '77', '78', '79', '80', '81', '82', '83', '84', '85', '86', '87', '88', '89', '90', '91', '92', '93', '94', '106', '131', '168', '207', '242', '952', '963', '987', '1031', '1085', '1135', '1186', '1234', '1350', '1528', '1638', '1689', '1741', '1755', '2165', '2295', '2633', '2671', '2682', '2684', '2707', '2752', '2762', '2764', '3657', '3734', '3948', '4483', '5178', '5266', '5269', '5274', '5279', '5370', '5773', '5944', '6019', '6021', '6101', '6194', '6468', '6477', '6515', '6603', '6653', '6939', '6993', '6998', '7001', '7293', '7703', '7712', '7718', '7723', '7728', '7730', '7755', '7784', '7796', '7797', '7801', '7827', '7831', '7839', '7854', '7970', '8212', '8222', '8330', '8377', '8380', '8543', '8685', '8715', '8717', '8729', '9109', '9157', '9453', '9618', '9648', '9784', '9850', '9892', '9912', '10018', '10027', '10058', '10091', '10276', '10315', '10632', '10652', '10805', '10924', '11092', '11102', '11117', '11141', '11146', '11488', '11760', '11860', '12132', '12151', '12272', '12410', '12418', '12421', '12618', '12636', '12638', '13367', '13616', '13789', '13793', '13795', '13843', '13847', '13882', '13958', '13996', '14277', '14440', '14452', '14455', '14457', '14514', '14577', '14738', '15088', '15156', '15648', '15811', '15817', '16380', '16490', '16520', '16621', '16810', '16862', '16869', '16873', '16883', '16907', '16948', '17106', '17123', '17150', '17255', '17288', '17576', '17583', '17584', '17634', '17748', '17771', '17890', '17910', '17951', '18163', '18266', '18289', '18295', '18506', '18581', '18587', '18841', '18912', '19009', '19022', '19024', '19038', '19365', '19421', '19443', '19487', '19509', '19920', '20003', '20026', '20066', '20199', '20219', '20441', '20506', '20612', '21556', '21785', '22474', '22867', '22921', '22928', '22947', '22969', '22981', '22982', '23055', '23071', '23508', '23517', '23525', '23574', '23632', '23687', '23696', '23726', '23733', '23830', '24002', '24019', '24101', '24226', '24317', '24323', '24337', '24354', '24411', '24456', '24514', '24541', '24679', '24902', '25153', '25193', '25196', '25202', '25212', '25215', '25228', '25257', '25995', '26559', '26949', '27051', '27086', '27537', '27544', '27550', '27551', '27556', '27560', '27566', '27571', '27584', '27586', '27595', '27597', '27610', '27613', '27615', '27618', '27630', '27636', '27650', '27652', '27659', '27662', '27663', '27668', '27669', '27670', '27675', '27676', '27682', '28348', '28672', '28705', '28722', '28776', '28867', '28868', '28983', '29438', '29516', '29572', '29574', '29722', '29799', '29813', '29814', '30065', '30208', '30220', '30223', '30305', '30693', '30952', '31153', '31313', '31366', '31890', '32004', '32007', '32010', '32022', '32030', '32036', '32042', '32050', '32059', '32064', '32067', '32069', '32089', '32096', '32109', '32147', '32158', '32175', '32188', '32198', '32476', '32504', '32537', '32626', '32751', '33026', '33159', '33177', '33194', '33264', '33272', '33307', '33310', '33325', '33347', '33420', '33498', '33721', '33739', '33766', '33767', '33785', '34200', '34287', '34463', '34464', '34471', '34921', '34929', '34930', '34932', '34944', '34964', '35326', '35557', '35563', '35574', '35613', '35685', '35701', '35754', '35801', '35802', '36683', '36687', '36711', '36780', '36909', '36933', '37026', '37231', '37448', '37628', '37631', '37829', '38074', '38125', '38742', '38755', '38761', '38776', '38790', '38812', '38992', '39036', '39098', '39169', '39529', '39740', '40062', '40363', '40454', '40455', '40513', '40636', '40641', '40642', '40664', '40757', '40771', '40870', '40996', '40998', '40999', '41002', '41112', '41276', '41295', '41409', '41415', '41417', '41433', '41436', '41523', '41645', '41664', '41704', '41902', '42052', '42203', '42281', '43018', '43121', '43125', '43593', '43648', '44248', '44272', '44787', '44823', '44849', '45022', '45404', '45427', '45433', '45565', '45581', '45588', '45594', '45595', '45686', '45887', '46041', '46505', '47174', '47748', '47763', '48086', '48207', '48509', '48511', '49569', '49605', '49665', '49707']\n",
            "924 ['439', '2409', '6995', '11860', '15416', '43748', '45881']\n",
            "8941 ['8943', '8944', '8940']\n",
            "8942 ['8939', '8940', '8943', '8944']\n",
            "9019 ['9022', '317', '9023']\n",
            "9020 ['9021', '9016', '9017', '9022', '317', '9023']\n",
            "9021 ['9020', '9016', '9017', '9022', '317', '9023']\n",
            "9022 ['9019', '9020', '9021', '317', '9016', '9017', '9023']\n",
            "9990 ['13134', '13478', '13877', '34299', '34485', '34642', '37941']\n",
            "9992 ['9987', '9989', '35667', '9991']\n",
            "9993 ['9991', '13134', '13478', '13877', '34299', '34485', '34642', '37941']\n"
          ],
          "name": "stdout"
        }
      ]
    },
    {
      "cell_type": "code",
      "metadata": {
        "id": "ClVshqjMQ0Ir",
        "colab_type": "code",
        "colab": {}
      },
      "source": [
        "# output recommendations\n",
        "with open(\"output.txt\",\"w+\") as file:\n",
        "    for line in result:\n",
        "        cur_id, recommendations = line\n",
        "        recommendation_ids = []\n",
        "        for recommendation in recommendations:\n",
        "            recommendation_ids.append(recommendation[0])\n",
        "        new_line = str(cur_id) + '\\t' + ','.join(recommendation_ids) + '\\n'\n",
        "        file.write(new_line)"
      ],
      "execution_count": 0,
      "outputs": []
    }
  ]
}