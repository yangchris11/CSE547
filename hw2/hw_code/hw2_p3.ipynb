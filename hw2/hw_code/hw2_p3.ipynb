{
  "nbformat": 4,
  "nbformat_minor": 0,
  "metadata": {
    "colab": {
      "name": "hw2_p3.ipynb",
      "provenance": [],
      "collapsed_sections": []
    },
    "kernelspec": {
      "name": "python3",
      "display_name": "Python 3"
    }
  },
  "cells": [
    {
      "cell_type": "code",
      "metadata": {
        "id": "_D2YuYexjxEX",
        "colab_type": "code",
        "colab": {}
      },
      "source": [
        "import numpy as np\n",
        "import pandas as pd\n",
        "\n",
        "import matplotlib\n",
        "import matplotlib.pyplot as plt\n",
        "%matplotlib inline\n",
        "matplotlib.rcParams['figure.dpi']= 150"
      ],
      "execution_count": 0,
      "outputs": []
    },
    {
      "cell_type": "markdown",
      "metadata": {
        "id": "-sc1jCgGHNW9",
        "colab_type": "text"
      },
      "source": [
        "# Initialization\n",
        "\n",
        "Here we assume $f = 5$ and $λ = 0.1$. For initialization, set $X_0$ as a matrix with all elements $= 0.5$ and $Y_0$ as a zero matrix. Run your program for $1000$ iteration."
      ]
    },
    {
      "cell_type": "code",
      "metadata": {
        "id": "SZ2qqihrthgF",
        "colab_type": "code",
        "colab": {}
      },
      "source": [
        "n_iters = 1000\n",
        "n_user = 100\n",
        "n_item = 100\n",
        "\n",
        "f = 5\n",
        "_lambda = 0.1"
      ],
      "execution_count": 0,
      "outputs": []
    },
    {
      "cell_type": "markdown",
      "metadata": {
        "id": "ashgxsQcpd6u",
        "colab_type": "text"
      },
      "source": [
        "#  Sparsity Ratio $α$ "
      ]
    },
    {
      "cell_type": "code",
      "metadata": {
        "id": "8xzhm9mQj0sD",
        "colab_type": "code",
        "colab": {}
      },
      "source": [
        "data_small = pd.read_csv('user_artists_small.txt', sep = \"\\t\", header=0, names=['userID', 'artistID', 'interactions'])\n",
        "data_synthetic = pd.read_csv('user_artists_synthetic.txt', sep = \"\\t\", header=0, names=['userID', 'artistID', 'interactions'])"
      ],
      "execution_count": 0,
      "outputs": []
    },
    {
      "cell_type": "code",
      "metadata": {
        "id": "WPNW4MR6q9Dv",
        "colab_type": "code",
        "colab": {}
      },
      "source": [
        "alpha_small = len(data_small) / ((n_user * n_item) - len(data_small))\n",
        "alpha_synthetic = len(data_synthetic) / (n_user * n_item - len(data_synthetic))"
      ],
      "execution_count": 0,
      "outputs": []
    },
    {
      "cell_type": "markdown",
      "metadata": {
        "id": "t97yjIw7AEkc",
        "colab_type": "text"
      },
      "source": [
        "# Dataset: `user_artists_small.txt`"
      ]
    },
    {
      "cell_type": "code",
      "metadata": {
        "id": "K39W5Glk7hVg",
        "colab_type": "code",
        "colab": {}
      },
      "source": [
        "C = np.zeros((n_user, n_item))\n",
        "P = np.zeros((n_user, n_item))\n",
        "for idx, row in data_small.iterrows():\n",
        "    C[row['userID']][row['artistID']] = row['interactions']\n",
        "    if row['interactions'] > 0:\n",
        "        P[row['userID']][row['artistID']] = 1.0 \n",
        "C = C * alpha_small + 1"
      ],
      "execution_count": 0,
      "outputs": []
    },
    {
      "cell_type": "markdown",
      "metadata": {
        "id": "Bw-hPcEPLBYo",
        "colab_type": "text"
      },
      "source": [
        "## Update $y_i$\n",
        "\n",
        "$\\mathbf{y}_i = \\big( \\mathbf{X}^T  \\mathbf{X} + \\mathbf{X}^T (\\textbf{C}_{i} - \\mathbf{I})\\mathbf{X} +  \\lambda \\mathbf{I}  \\big)^{-1} \\mathbf{X}^T \\textbf{C}_{i} p(i) $\n",
        "\n",
        "\n",
        "## Update $x_u$\n",
        "\n",
        "$\\mathbf{x}_u = \\big( \\mathbf{Y}^T  \\mathbf{Y} + \\mathbf{Y}^T (\\textbf{C}_{u} - \\mathbf{I})\\mathbf{Y} +  \\lambda \\mathbf{I}  \\big)^{-1} \\mathbf{Y}^T \\textbf{C}_{u} p(u) $"
      ]
    },
    {
      "cell_type": "code",
      "metadata": {
        "id": "fLH50SbPx9GD",
        "colab_type": "code",
        "outputId": "d7ee1893-ef04-4089-b1f0-40576c700694",
        "colab": {
          "base_uri": "https://localhost:8080/",
          "height": 357
        }
      },
      "source": [
        "X = np.full((n_user, f), 0.5)\n",
        "Y = np.full((n_item, f), 0.0)\n",
        "c_implicit_history = []\n",
        "lambda_I = _lambda * np.eye(f)\n",
        "\n",
        "for iter in range(n_iters):\n",
        "    # step0: precompose XtX\n",
        "    Xt_X = np.matmul(X.T, X)\n",
        "\n",
        "    # step1: update item matrix Y\n",
        "    for i in range(n_item):\n",
        "\n",
        "        Ci = np.diag(C[:,i])\n",
        "        Ci_minus_I = Ci - np.eye(n_item)\n",
        "\n",
        "        Xt_Ci_pi = np.matmul(X.T, np.multiply(C[:,i], P[:,i]))\n",
        "\n",
        "        Y[i,:] = np.matmul(np.linalg.inv(Xt_X + np.matmul(np.matmul(X.T, Ci_minus_I), X) + lambda_I), Xt_Ci_pi)\n",
        "\n",
        "    # step0: precompose YtY\n",
        "    Yt_Y = np.matmul(Y.T, Y)\n",
        "    # step2: update item matrix Y\n",
        "    for u in range(n_user):\n",
        "        \n",
        "        Cu = np.diag(C[u,:])\n",
        "        Cu_minus_I = Cu - np.eye(n_user)\n",
        "\n",
        "        Yt_Cu_pu = np.matmul(Y.T, np.multiply(C[u,:], P[u,:]))\n",
        "\n",
        "        X[u,:] = np.matmul(np.linalg.inv(Yt_Y + np.matmul(np.matmul(Y.T, Cu_minus_I), Y) + lambda_I), Yt_Cu_pu)\n",
        "\n",
        "    # step3: Caculate C_implicit\n",
        "    preds = np.matmul(X, Y.T)\n",
        "    c_implicit = np.sum(np.multiply(C, np.square(P - preds))) + _lambda * (np.sum(np.square(X)) + np.sum(np.square(Y)))\n",
        "\n",
        "    c_implicit_history.append(c_implicit)\n",
        "\n",
        "    if iter <= 9 or iter % 100 == 99:\n",
        "        print(\"Iter {:3d}:\\t C_implicit: {}\\t\\t p(30,83): {}\".format(iter+1, c_implicit, preds[30, 83]))"
      ],
      "execution_count": 0,
      "outputs": [
        {
          "output_type": "stream",
          "text": [
            "Iter   1:\t C_implicit: 1527.4737190973742\t\t p(30,83): 0.6554300810001858\n",
            "Iter   2:\t C_implicit: 1281.4324801658206\t\t p(30,83): 0.6406748225227045\n",
            "Iter   3:\t C_implicit: 843.5666154146803\t\t p(30,83): 1.061303449308686\n",
            "Iter   4:\t C_implicit: 415.65603929426646\t\t p(30,83): 0.546903839876763\n",
            "Iter   5:\t C_implicit: 351.6522797641165\t\t p(30,83): 0.5188776542281589\n",
            "Iter   6:\t C_implicit: 340.9773119832795\t\t p(30,83): 0.48852133561058825\n",
            "Iter   7:\t C_implicit: 334.6857363002091\t\t p(30,83): 0.4395160416066584\n",
            "Iter   8:\t C_implicit: 329.71962782703986\t\t p(30,83): 0.3807031426494825\n",
            "Iter   9:\t C_implicit: 325.7350455235427\t\t p(30,83): 0.33014464108806363\n",
            "Iter  10:\t C_implicit: 322.7542807199702\t\t p(30,83): 0.29501639634661636\n",
            "Iter 100:\t C_implicit: 299.7831466241894\t\t p(30,83): 0.2060293499615423\n",
            "Iter 200:\t C_implicit: 296.7080892679179\t\t p(30,83): 0.18483393140297452\n",
            "Iter 300:\t C_implicit: 295.57918855811096\t\t p(30,83): 0.1833112287203684\n",
            "Iter 400:\t C_implicit: 294.95543096685094\t\t p(30,83): 0.1825514696819188\n",
            "Iter 500:\t C_implicit: 294.56556440832185\t\t p(30,83): 0.18204118235381733\n",
            "Iter 600:\t C_implicit: 294.3067329591353\t\t p(30,83): 0.18172090629478993\n",
            "Iter 700:\t C_implicit: 294.1276748625776\t\t p(30,83): 0.1815095578129722\n",
            "Iter 800:\t C_implicit: 293.99999673406774\t\t p(30,83): 0.1813666675508952\n",
            "Iter 900:\t C_implicit: 293.9069392212422\t\t p(30,83): 0.18127133896674105\n",
            "Iter 1000:\t C_implicit: 293.83799484001344\t\t p(30,83): 0.18120857125994475\n"
          ],
          "name": "stdout"
        }
      ]
    },
    {
      "cell_type": "code",
      "metadata": {
        "id": "vJHiz0zhzWqS",
        "colab_type": "code",
        "outputId": "9b84b548-d79e-483a-97ff-57cfd6470d8f",
        "colab": {
          "base_uri": "https://localhost:8080/",
          "height": 613
        }
      },
      "source": [
        "plt.figure()\n",
        "plt.plot(np.array(c_implicit_history), c='red')\n",
        "plt.xlabel('Iterations')\n",
        "plt.ylabel(r'$C_{implicit}$')\n",
        "plt.title(r'$C_{implicit}$' + ' (user_artist_small.txt)')"
      ],
      "execution_count": 0,
      "outputs": [
        {
          "output_type": "execute_result",
          "data": {
            "text/plain": [
              "Text(0.5, 1.0, '$C_{implicit}$ (user_artist_small.txt)')"
            ]
          },
          "metadata": {
            "tags": []
          },
          "execution_count": 8
        },
        {
          "output_type": "display_data",
          "data": {
            "image/png": "[encoded data removed]",
            "text/plain": [
              "<Figure size 900x600 with 1 Axes>"
            ]
          },
          "metadata": {
            "tags": [],
            "needs_background": "light"
          }
        }
      ]
    },
    {
      "cell_type": "markdown",
      "metadata": {
        "id": "8AQOJPKIAML9",
        "colab_type": "text"
      },
      "source": [
        "# Dataset: `user_artists_synthetic.txt`"
      ]
    },
    {
      "cell_type": "code",
      "metadata": {
        "id": "lSLvWquA-l21",
        "colab_type": "code",
        "colab": {}
      },
      "source": [
        "C = np.zeros((n_user, n_item))\n",
        "P = np.zeros((n_user, n_item))\n",
        "for idx, row in data_synthetic.iterrows():\n",
        "    C[row['userID']][row['artistID']] = row['interactions']\n",
        "    if row['interactions'] > 0:\n",
        "        P[row['userID']][row['artistID']] = 1.0 \n",
        "C = C * alpha_synthetic + 1"
      ],
      "execution_count": 0,
      "outputs": []
    },
    {
      "cell_type": "code",
      "metadata": {
        "id": "jDANJJhr_2eV",
        "colab_type": "code",
        "outputId": "5069c190-a345-4723-97fa-ba986fcb1c03",
        "colab": {
          "base_uri": "https://localhost:8080/",
          "height": 357
        }
      },
      "source": [
        "X = np.full((n_user, f), 0.5)\n",
        "Y = np.full((n_item, f), 0.0)\n",
        "c_implicit_history = []\n",
        "lambda_I = _lambda * np.eye(f)\n",
        "\n",
        "for iter in range(n_iters):\n",
        "    # step0: precompose XtX and YtY\n",
        "    Xt_X = np.matmul(X.T, X)\n",
        "\n",
        "    # step1: update item matrix Y\n",
        "    for i in range(n_item):\n",
        "\n",
        "        Ci = np.diag(C[:,i])\n",
        "        Ci_minus_I = Ci - np.eye(n_item)\n",
        "\n",
        "        Xt_Ci_pi = np.matmul(X.T, np.multiply(C[:,i], P[:,i]))\n",
        "\n",
        "        Y[i,:] = np.matmul(np.linalg.inv(Xt_X + np.matmul(np.matmul(X.T, Ci_minus_I), X) + lambda_I), Xt_Ci_pi)\n",
        "\n",
        "    Yt_Y = np.matmul(Y.T, Y)\n",
        "    # step2: update item matrix Y\n",
        "    for u in range(n_user):\n",
        "        \n",
        "        Cu = np.diag(C[u,:])\n",
        "        Cu_minus_I = Cu - np.eye(n_user)\n",
        "\n",
        "        Yt_Cu_pu = np.matmul(Y.T, np.multiply(C[u,:], P[u,:]))\n",
        "\n",
        "        X[u,:] = np.matmul(np.linalg.inv(Yt_Y + np.matmul(np.matmul(Y.T, Cu_minus_I), Y) + lambda_I), Yt_Cu_pu)\n",
        "\n",
        "    # step3: Caculate C_implicit\n",
        "    preds = np.matmul(X, Y.T)\n",
        "    c_implicit = np.sum(np.multiply(C, np.square(P - preds))) + _lambda * (np.sum(np.square(X)) + np.sum(np.square(Y)))\n",
        "\n",
        "    c_implicit_history.append(c_implicit)\n",
        "\n",
        "    if iter <= 9 or iter % 100 == 99:\n",
        "        print(\"Iter {:3d}:\\t C_implicit: {}\\t\\t p(30,83): {}\".format(iter+1, c_implicit, preds[30, 83]))"
      ],
      "execution_count": 0,
      "outputs": [
        {
          "output_type": "stream",
          "text": [
            "Iter   1:\t C_implicit: 1687.619990010212\t\t p(30,83): 0.27675806467607506\n",
            "Iter   2:\t C_implicit: 1684.4036099533012\t\t p(30,83): 0.23977120771858967\n",
            "Iter   3:\t C_implicit: 1683.864467580794\t\t p(30,83): 0.23851933147863677\n",
            "Iter   4:\t C_implicit: 1681.9032365850235\t\t p(30,83): 0.23858221593381787\n",
            "Iter   5:\t C_implicit: 1441.0047120209697\t\t p(30,83): 0.24960662553542415\n",
            "Iter   6:\t C_implicit: 1430.2685269353074\t\t p(30,83): 0.23849347232706192\n",
            "Iter   7:\t C_implicit: 1423.6570879264466\t\t p(30,83): 0.23356231156468477\n",
            "Iter   8:\t C_implicit: 1419.144718098784\t\t p(30,83): 0.23232435067388854\n",
            "Iter   9:\t C_implicit: 1415.8886410656623\t\t p(30,83): 0.23342751576183005\n",
            "Iter  10:\t C_implicit: 1413.4535845698376\t\t p(30,83): 0.23609605457918745\n",
            "Iter 100:\t C_implicit: 1398.8870056098876\t\t p(30,83): 0.34525324999030493\n",
            "Iter 200:\t C_implicit: 1398.6035630001306\t\t p(30,83): 0.3467021898718533\n",
            "Iter 300:\t C_implicit: 1398.5880832184714\t\t p(30,83): 0.3467709925667726\n",
            "Iter 400:\t C_implicit: 1398.5872117749211\t\t p(30,83): 0.3467837771568949\n",
            "Iter 500:\t C_implicit: 1398.5871626426442\t\t p(30,83): 0.3467867479429818\n",
            "Iter 600:\t C_implicit: 1398.5871598723156\t\t p(30,83): 0.34678745131484573\n",
            "Iter 700:\t C_implicit: 1398.5871597161101\t\t p(30,83): 0.34678761823737\n",
            "Iter 800:\t C_implicit: 1398.587159707302\t\t p(30,83): 0.34678765786884425\n",
            "Iter 900:\t C_implicit: 1398.5871597068058\t\t p(30,83): 0.3467876672792815\n",
            "Iter 1000:\t C_implicit: 1398.5871597067776\t\t p(30,83): 0.34678766951382967\n"
          ],
          "name": "stdout"
        }
      ]
    },
    {
      "cell_type": "code",
      "metadata": {
        "id": "99twOfzm-dlo",
        "colab_type": "code",
        "outputId": "9de2d98b-c72f-442c-a9e8-fc3d982cdaf1",
        "colab": {
          "base_uri": "https://localhost:8080/",
          "height": 613
        }
      },
      "source": [
        "plt.figure()\n",
        "plt.plot(np.array(c_implicit_history), c='red')\n",
        "plt.xlabel('Iterations')\n",
        "plt.ylabel(r'$C_{implicit}$')\n",
        "plt.title(r'$C_{implicit}$' + ' (user_artist_synthetic.txt)')"
      ],
      "execution_count": 0,
      "outputs": [
        {
          "output_type": "execute_result",
          "data": {
            "text/plain": [
              "Text(0.5, 1.0, '$C_{implicit}$ (user_artist_synthetic.txt)')"
            ]
          },
          "metadata": {
            "tags": []
          },
          "execution_count": 11
        },
        {
          "output_type": "display_data",
          "data": {
            "image/png": "[encoded data removed]",
            "text/plain": [
              "<Figure size 900x600 with 1 Axes>"
            ]
          },
          "metadata": {
            "tags": [],
            "needs_background": "light"
          }
        }
      ]
    }
  ]
}